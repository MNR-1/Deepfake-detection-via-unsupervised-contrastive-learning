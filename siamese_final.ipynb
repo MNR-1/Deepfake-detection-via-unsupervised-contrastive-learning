{
  "cells": [
    {
      "cell_type": "code",
      "execution_count": null,
      "metadata": {
        "colab": {
          "base_uri": "https://localhost:8080/"
        },
        "id": "MuLIvmc-n9TV",
        "outputId": "a971b1a4-3c17-435b-c1b7-7cd27b32474c"
      },
      "outputs": [
        {
          "name": "stdout",
          "output_type": "stream",
          "text": [
            "Mounted at /content/drive\n"
          ]
        }
      ],
      "source": [
        "from google.colab import drive\n",
        "drive.mount('/content/drive')"
      ]
    },
    {
      "cell_type": "code",
      "execution_count": 1,
      "metadata": {
        "colab": {
          "base_uri": "https://localhost:8080/"
        },
        "id": "tHNNobsmivsW",
        "outputId": "622788af-badc-4a1d-cc37-77158b77883f"
      },
      "outputs": [],
      "source": [
        "# !pip install unrar\n",
        "# !unrar x /content/drive/MyDrive/Images.rar"
      ]
    },
    {
      "cell_type": "code",
      "execution_count": null,
      "metadata": {
        "id": "xKBFjVZwg5jF"
      },
      "outputs": [],
      "source": [
        "import cv2, os\n",
        "import matplotlib.pyplot as plt\n",
        "import itertools, numpy as np\n",
        "from tensorflow.keras.applications.xception import Xception, preprocess_input\n",
        "from keras.preprocessing.image import load_img, img_to_array"
      ]
    },
    {
      "cell_type": "code",
      "execution_count": null,
      "metadata": {
        "id": "7E0gwEpvg5jJ"
      },
      "outputs": [],
      "source": [
        "def preprocessImage(path):\n",
        "    my_image = load_img(path, target_size=(71, 71))\n",
        "\n",
        "    my_image = img_to_array(my_image)\n",
        "    # my_image = my_image.reshape((1, my_image.shape[0], my_image.shape[1], my_image.shape[2]))\n",
        "    my_image = preprocess_input(my_image)\n",
        "    return my_image"
      ]
    },
    {
      "cell_type": "code",
      "execution_count": null,
      "metadata": {
        "id": "Heg1swmLg5jK"
      },
      "outputs": [],
      "source": [
        "realImages=[]\n",
        "fakeImages=[]\n",
        "for i in np.random.choice(os.listdir('/content/drive/MyDrive/Siamese Images/Real'), 100, replace=False):\n",
        "    img = preprocessImage(f'/content/drive/MyDrive/Siamese Images/Real/{i}')\n",
        "    realImages.append([img,1])\n",
        "for i in np.random.choice(os.listdir('/content/drive/MyDrive/Siamese Images/Fake'), 100, replace=False):\n",
        "    img = preprocessImage(f'/content/drive/MyDrive/Siamese Images/Fake/{i}')\n",
        "    fakeImages.append([img,0])"
      ]
    },
    {
      "cell_type": "code",
      "execution_count": null,
      "metadata": {
        "id": "ut7Ufzb6g5jL"
      },
      "outputs": [],
      "source": [
        "Images = realImages + fakeImages"
      ]
    },
    {
      "cell_type": "code",
      "execution_count": null,
      "metadata": {
        "id": "hq10MhWpg5jL"
      },
      "outputs": [],
      "source": [
        "imagePairs = []\n",
        "labels = []\n",
        "for i in itertools.combinations(Images,2):\n",
        "    if i[0][1] == i[1][1]:\n",
        "        imagePairs.append([i[0][0], i[1][0]])\n",
        "        labels.append(1)\n",
        "    else:\n",
        "        imagePairs.append([i[0][0], i[1][0]])\n",
        "        labels.append(0)\n",
        "labels = np.array(labels, dtype=np.float32)\n",
        "imagePairs = np.array(imagePairs)"
      ]
    },
    {
      "cell_type": "code",
      "execution_count": null,
      "metadata": {
        "id": "HpuDTd5bg5jL"
      },
      "outputs": [],
      "source": [
        "import numpy as np\n",
        "from tensorflow.keras.layers import Input, Lambda, Dense, Flatten\n",
        "from tensorflow.keras.models import Model\n",
        "from tensorflow.keras.applications import Xception\n",
        "from tensorflow.keras.optimizers import Adam\n",
        "from tensorflow.keras import backend as K\n"
      ]
    },
    {
      "cell_type": "code",
      "execution_count": null,
      "metadata": {
        "id": "ZHDXsSIyg5jM"
      },
      "outputs": [],
      "source": [
        "def create_siamese_xception(input_shape):\n",
        "    base_xception = Xception(weights='imagenet', include_top=False, input_shape=input_shape)\n",
        "\n",
        "    # Define two input tensors for the siamese network\n",
        "    input_a = Input(shape=input_shape)\n",
        "    input_b = Input(shape=input_shape)\n",
        "\n",
        "    # Use the same Xception model for both inputs\n",
        "    output_a = base_xception(input_a)\n",
        "    output_b = base_xception(input_b)\n",
        "\n",
        "    # Flatten the outputs and compute Euclidean distance\n",
        "    output_a = Flatten()(output_a)\n",
        "    output_b = Flatten()(output_b)\n",
        "\n",
        "    # Calculate Euclidean distance between the outputs of the base network\n",
        "    distance = Lambda(lambda tensors: K.abs(tensors[0] - tensors[1]))([output_a, output_b])\n",
        "\n",
        "    # Output layer\n",
        "    output = Dense(1, activation='sigmoid')(distance)\n",
        "\n",
        "    # Create the Siamese model\n",
        "    siamese_model = Model(inputs=[input_a, input_b], outputs=output)\n",
        "    return siamese_model\n"
      ]
    },
    {
      "cell_type": "code",
      "execution_count": null,
      "metadata": {
        "id": "IwDUtmEMg5jM"
      },
      "outputs": [],
      "source": [
        "def contrastive_loss_with_margin(margin):\n",
        "    def contrastive_loss(y_true, y_pred):\n",
        "        square_pred = K.square(y_pred)\n",
        "        margin_square = K.square(K.maximum(margin - y_pred, 0))\n",
        "        return K.mean(y_true * square_pred + (1 - y_true) * margin_square)\n",
        "\n",
        "    return contrastive_loss\n"
      ]
    },
    {
      "cell_type": "code",
      "execution_count": null,
      "metadata": {
        "colab": {
          "base_uri": "https://localhost:8080/"
        },
        "id": "hLgQRb1Rg5jN",
        "outputId": "e08b93e0-e8df-469f-df14-bbf254d100dc"
      },
      "outputs": [
        {
          "name": "stdout",
          "output_type": "stream",
          "text": [
            "Downloading data from https://storage.googleapis.com/tensorflow/keras-applications/xception/xception_weights_tf_dim_ordering_tf_kernels_notop.h5\n",
            "83683744/83683744 [==============================] - 3s 0us/step\n",
            "Epoch 1/20\n",
            "622/622 [==============================] - 127s 143ms/step - loss: 0.1832 - accuracy: 0.3397\n",
            "Epoch 2/20\n",
            "622/622 [==============================] - 89s 144ms/step - loss: 0.0052 - accuracy: 0.0054\n",
            "Epoch 3/20\n",
            "622/622 [==============================] - 89s 143ms/step - loss: 0.0030 - accuracy: 0.0033\n",
            "Epoch 4/20\n",
            "622/622 [==============================] - 89s 143ms/step - loss: 0.0025 - accuracy: 0.0032\n",
            "Epoch 5/20\n",
            "622/622 [==============================] - 89s 144ms/step - loss: 5.0944e-04 - accuracy: 5.5276e-04\n",
            "Epoch 6/20\n",
            "622/622 [==============================] - 89s 143ms/step - loss: 3.8668e-05 - accuracy: 5.0251e-05\n",
            "Epoch 7/20\n",
            "622/622 [==============================] - 89s 143ms/step - loss: 2.7999e-06 - accuracy: 0.0000e+00\n",
            "Epoch 8/20\n",
            "622/622 [==============================] - 89s 143ms/step - loss: 5.7592e-06 - accuracy: 0.0000e+00\n",
            "Epoch 9/20\n",
            "622/622 [==============================] - 89s 143ms/step - loss: 3.4830e-05 - accuracy: 0.0000e+00\n",
            "Epoch 10/20\n",
            "622/622 [==============================] - 89s 143ms/step - loss: 0.0045 - accuracy: 0.0054\n",
            "Epoch 11/20\n",
            "622/622 [==============================] - 89s 143ms/step - loss: 0.0013 - accuracy: 0.0016\n",
            "Epoch 12/20\n",
            "622/622 [==============================] - 89s 143ms/step - loss: 5.9951e-05 - accuracy: 5.0251e-05\n",
            "Epoch 13/20\n",
            "622/622 [==============================] - 89s 143ms/step - loss: 1.1900e-04 - accuracy: 1.5075e-04\n",
            "Epoch 14/20\n",
            "622/622 [==============================] - 89s 143ms/step - loss: 1.1624e-04 - accuracy: 1.0050e-04\n",
            "Epoch 15/20\n",
            "622/622 [==============================] - 89s 143ms/step - loss: 2.5418e-06 - accuracy: 0.0000e+00\n",
            "Epoch 16/20\n",
            "622/622 [==============================] - 89s 143ms/step - loss: 6.2986e-07 - accuracy: 0.0000e+00\n",
            "Epoch 17/20\n",
            "622/622 [==============================] - 89s 143ms/step - loss: 1.2146e-06 - accuracy: 0.0000e+00\n",
            "Epoch 18/20\n",
            "622/622 [==============================] - 89s 143ms/step - loss: 0.0038 - accuracy: 0.0047\n",
            "Epoch 19/20\n",
            "622/622 [==============================] - 89s 143ms/step - loss: 6.6989e-04 - accuracy: 8.0402e-04\n",
            "Epoch 20/20\n",
            "622/622 [==============================] - 89s 143ms/step - loss: 2.9911e-05 - accuracy: 5.0251e-05\n"
          ]
        },
        {
          "data": {
            "text/plain": [
              "<keras.src.callbacks.History at 0x7ca70001f220>"
            ]
          },
          "execution_count": 11,
          "metadata": {},
          "output_type": "execute_result"
        }
      ],
      "source": [
        "# Define input shape (adjust according to your dataset)\n",
        "input_shape = (71, 71, 3)\n",
        "\n",
        "# Create Siamese model\n",
        "siamese_model = create_siamese_xception(input_shape)\n",
        "\n",
        "# Compile the model with contrastive loss and Adam optimizer\n",
        "siamese_model.compile(loss=contrastive_loss_with_margin(margin=1.0), optimizer=Adam(learning_rate=0.0001), metrics=['accuracy'])\n",
        "\n",
        "# Train the model with your data\n",
        "siamese_model.fit([imagePairs[:,0,:,:,:], imagePairs[:,1,:,:,:]], labels, epochs=20, batch_size=32)\n"
      ]
    },
    {
      "cell_type": "code",
      "execution_count": null,
      "metadata": {
        "id": "44nqLWjOg5jO"
      },
      "outputs": [],
      "source": [
        "siamese_model.save('/content/siamese_model.h5')\n"
      ]
    },
    {
      "cell_type": "code",
      "execution_count": null,
      "metadata": {
        "id": "jbG2owtOrQoS"
      },
      "outputs": [],
      "source": [
        "xception = siamese_model.layers[2]"
      ]
    },
    {
      "cell_type": "code",
      "execution_count": null,
      "metadata": {
        "colab": {
          "base_uri": "https://localhost:8080/"
        },
        "id": "xZDztfpbM3Lm",
        "outputId": "9933b7b5-f2af-443a-977b-31926c953879"
      },
      "outputs": [
        {
          "name": "stderr",
          "output_type": "stream",
          "text": [
            "/usr/local/lib/python3.10/dist-packages/keras/src/engine/training.py:3079: UserWarning: You are saving your model as an HDF5 file via `model.save()`. This file format is considered legacy. We recommend using instead the native Keras format, e.g. `model.save('my_model.keras')`.\n",
            "  saving_api.save_model(\n",
            "WARNING:tensorflow:Compiled the loaded model, but the compiled metrics have yet to be built. `model.compile_metrics` will be empty until you train or evaluate the model.\n"
          ]
        }
      ],
      "source": [
        "xception.save('/content/xceptionmodel.h5')"
      ]
    },
    {
      "cell_type": "code",
      "execution_count": null,
      "metadata": {
        "id": "SeupMRTDF7f4"
      },
      "outputs": [],
      "source": []
    }
  ],
  "metadata": {
    "accelerator": "GPU",
    "colab": {
      "gpuType": "T4",
      "provenance": []
    },
    "kernelspec": {
      "display_name": "Python 3",
      "name": "python3"
    },
    "language_info": {
      "codemirror_mode": {
        "name": "ipython",
        "version": 3
      },
      "file_extension": ".py",
      "mimetype": "text/x-python",
      "name": "python",
      "nbconvert_exporter": "python",
      "pygments_lexer": "ipython3",
      "version": "3.10.4"
    }
  },
  "nbformat": 4,
  "nbformat_minor": 0
}
